{
 "cells": [
  {
   "cell_type": "markdown",
   "id": "ad87c2bb",
   "metadata": {},
   "source": [
    "## Importing Libraries"
   ]
  },
  {
   "cell_type": "code",
   "execution_count": 35,
   "id": "7180db6e",
   "metadata": {},
   "outputs": [],
   "source": [
    "import numpy as np\n",
    "import cv2 as cv\n",
    "import tensorflow.keras as keras\n",
    "import os\n",
    "import pandas as pd\n",
    "from sklearn.preprocessing import LabelEncoder\n",
    "from tensorflow.keras.utils import to_categorical\n",
    "from tensorflow.keras import layers , models\n",
    "\n",
    "from sklearn.model_selection import train_test_split"
   ]
  },
  {
   "cell_type": "markdown",
   "id": "cf7ad61c",
   "metadata": {},
   "source": [
    "## Reading Images "
   ]
  },
  {
   "cell_type": "code",
   "execution_count": 22,
   "id": "8d3210f6",
   "metadata": {
    "collapsed": true
   },
   "outputs": [
    {
     "name": "stdout",
     "output_type": "stream",
     "text": [
      " [INFO ] : 0 images are processed...\n",
      " [INFO ] : 10000 images are processed...\n",
      " [INFO ] : 20000 images are processed...\n",
      "<class 'list'>\n"
     ]
    },
    {
     "data": {
      "text/html": [
       "<div>\n",
       "<style scoped>\n",
       "    .dataframe tbody tr th:only-of-type {\n",
       "        vertical-align: middle;\n",
       "    }\n",
       "\n",
       "    .dataframe tbody tr th {\n",
       "        vertical-align: top;\n",
       "    }\n",
       "\n",
       "    .dataframe thead th {\n",
       "        text-align: right;\n",
       "    }\n",
       "</style>\n",
       "<table border=\"1\" class=\"dataframe\">\n",
       "  <thead>\n",
       "    <tr style=\"text-align: right;\">\n",
       "      <th></th>\n",
       "      <th>file_name</th>\n",
       "      <th>label</th>\n",
       "    </tr>\n",
       "  </thead>\n",
       "  <tbody>\n",
       "    <tr>\n",
       "      <th>0</th>\n",
       "      <td>cat.0.jpg</td>\n",
       "      <td>cat</td>\n",
       "    </tr>\n",
       "    <tr>\n",
       "      <th>1</th>\n",
       "      <td>cat.1.jpg</td>\n",
       "      <td>cat</td>\n",
       "    </tr>\n",
       "    <tr>\n",
       "      <th>2</th>\n",
       "      <td>cat.10.jpg</td>\n",
       "      <td>cat</td>\n",
       "    </tr>\n",
       "    <tr>\n",
       "      <th>3</th>\n",
       "      <td>cat.100.jpg</td>\n",
       "      <td>cat</td>\n",
       "    </tr>\n",
       "    <tr>\n",
       "      <th>4</th>\n",
       "      <td>cat.1000.jpg</td>\n",
       "      <td>cat</td>\n",
       "    </tr>\n",
       "    <tr>\n",
       "      <th>...</th>\n",
       "      <td>...</td>\n",
       "      <td>...</td>\n",
       "    </tr>\n",
       "    <tr>\n",
       "      <th>24995</th>\n",
       "      <td>dog.9995.jpg</td>\n",
       "      <td>dog</td>\n",
       "    </tr>\n",
       "    <tr>\n",
       "      <th>24996</th>\n",
       "      <td>dog.9996.jpg</td>\n",
       "      <td>dog</td>\n",
       "    </tr>\n",
       "    <tr>\n",
       "      <th>24997</th>\n",
       "      <td>dog.9997.jpg</td>\n",
       "      <td>dog</td>\n",
       "    </tr>\n",
       "    <tr>\n",
       "      <th>24998</th>\n",
       "      <td>dog.9998.jpg</td>\n",
       "      <td>dog</td>\n",
       "    </tr>\n",
       "    <tr>\n",
       "      <th>24999</th>\n",
       "      <td>dog.9999.jpg</td>\n",
       "      <td>dog</td>\n",
       "    </tr>\n",
       "  </tbody>\n",
       "</table>\n",
       "<p>25000 rows × 2 columns</p>\n",
       "</div>"
      ],
      "text/plain": [
       "          file_name label\n",
       "0         cat.0.jpg   cat\n",
       "1         cat.1.jpg   cat\n",
       "2        cat.10.jpg   cat\n",
       "3       cat.100.jpg   cat\n",
       "4      cat.1000.jpg   cat\n",
       "...             ...   ...\n",
       "24995  dog.9995.jpg   dog\n",
       "24996  dog.9996.jpg   dog\n",
       "24997  dog.9997.jpg   dog\n",
       "24998  dog.9998.jpg   dog\n",
       "24999  dog.9999.jpg   dog\n",
       "\n",
       "[25000 rows x 2 columns]"
      ]
     },
     "execution_count": 22,
     "metadata": {},
     "output_type": "execute_result"
    }
   ],
   "source": [
    "images_vector =[]\n",
    "images_label =[]\n",
    "\n",
    "fileNames = os.listdir('train')\n",
    "\n",
    "for i , f_name in enumerate(fileNames) :\n",
    "    image = cv.imread('train/' + f_name)\n",
    "        \n",
    "    image = cv.resize(image , (50,50))\n",
    "    image = image/255.0\n",
    "    image = image.flatten()\n",
    "    \n",
    "    images_vector.append(image)\n",
    "    images_label.append(f_name.split('.')[0]) \n",
    "    \n",
    "    if i%10000 == 0 : \n",
    "        print(f\" [INFO ] : {i} images are processed...\")\n",
    "\n",
    "# df = pd.DataFrame({\n",
    "#     'file_name' : fileNames,\n",
    "#     'label' : images_label\n",
    "# })\n",
    "\n",
    "# df"
   ]
  },
  {
   "cell_type": "markdown",
   "id": "15203936",
   "metadata": {},
   "source": [
    "## LabelEncoding"
   ]
  },
  {
   "cell_type": "code",
   "execution_count": 25,
   "id": "21bed2d9",
   "metadata": {
    "scrolled": true
   },
   "outputs": [
    {
     "data": {
      "text/plain": [
       "array([0, 0, 0, ..., 1, 1, 1], dtype=int64)"
      ]
     },
     "execution_count": 25,
     "metadata": {},
     "output_type": "execute_result"
    }
   ],
   "source": [
    "labelEncoder  = LabelEncoder()\n",
    "\n",
    "images_label = labelEncoder.fit_transform(images_label)\n"
   ]
  },
  {
   "cell_type": "markdown",
   "id": "b4c4a802",
   "metadata": {},
   "source": [
    "## OneHot Encoding "
   ]
  },
  {
   "cell_type": "code",
   "execution_count": 28,
   "id": "9145972f",
   "metadata": {
    "scrolled": true
   },
   "outputs": [
    {
     "data": {
      "text/plain": [
       "array([[1., 0.],\n",
       "       [1., 0.],\n",
       "       [1., 0.],\n",
       "       ...,\n",
       "       [0., 1.],\n",
       "       [0., 1.],\n",
       "       [0., 1.]], dtype=float32)"
      ]
     },
     "execution_count": 28,
     "metadata": {},
     "output_type": "execute_result"
    }
   ],
   "source": [
    "images_label = to_categorical(images_label)\n",
    "images_label"
   ]
  },
  {
   "cell_type": "markdown",
   "id": "f88b3bb8",
   "metadata": {},
   "source": [
    "## Splitting To Train and Test "
   ]
  },
  {
   "cell_type": "code",
   "execution_count": 47,
   "id": "b6766442",
   "metadata": {},
   "outputs": [
    {
     "name": "stdout",
     "output_type": "stream",
     "text": [
      "X_train: (20000, 7500)\n",
      "Y_train: (20000, 2)\n",
      "X_test:  (5000, 7500)\n",
      "Y_test:  (5000, 2)\n"
     ]
    }
   ],
   "source": [
    "images_vector = np.array(images_vector)\n",
    "\n",
    "X_train , X_test , y_train , y_test = train_test_split(images_vector ,images_label  , random_state=40 , train_size=0.8)\n",
    "\n",
    "print('X_train: ' + str(X_train.shape))\n",
    "print('Y_train: ' + str(y_train.shape))\n",
    "print('X_test:  '  + str(X_test.shape))\n",
    "print('Y_test:  '  + str(y_test.shape))\n"
   ]
  },
  {
   "cell_type": "markdown",
   "id": "b87e93cf",
   "metadata": {},
   "source": [
    "## Creating Net"
   ]
  },
  {
   "cell_type": "code",
   "execution_count": 56,
   "id": "04f45b24",
   "metadata": {
    "scrolled": true
   },
   "outputs": [
    {
     "name": "stdout",
     "output_type": "stream",
     "text": [
      "Model: \"sequential_5\"\n",
      "_________________________________________________________________\n",
      " Layer (type)                Output Shape              Param #   \n",
      "=================================================================\n",
      " layer_2 (Dense)             (None, 300)               2250300   \n",
      "                                                                 \n",
      " layer_3 (Dense)             (None, 90)                27090     \n",
      "                                                                 \n",
      " final_layer (Dense)         (None, 2)                 182       \n",
      "                                                                 \n",
      "=================================================================\n",
      "Total params: 2,277,572\n",
      "Trainable params: 2,277,572\n",
      "Non-trainable params: 0\n",
      "_________________________________________________________________\n"
     ]
    }
   ],
   "source": [
    "net = models.Sequential([\n",
    "    layers.Dense(300,activation = 'relu' , name ='layer_2' ,input_dim=7500),\n",
    "    layers.Dense(90,activation = 'relu' , name ='layer_3'),\n",
    "    layers.Dense(2,activation = 'sigmoid' , name ='final_layer')\n",
    "])\n",
    "\n",
    "net.summary()"
   ]
  },
  {
   "cell_type": "markdown",
   "id": "fca6ae2c",
   "metadata": {},
   "source": [
    "## Compiling "
   ]
  },
  {
   "cell_type": "code",
   "execution_count": null,
   "id": "0e79857e",
   "metadata": {},
   "outputs": [
    {
     "name": "stdout",
     "output_type": "stream",
     "text": [
      "Epoch 1/10\n",
      "625/625 [==============================] - 52s 82ms/step - loss: 0.6743 - Accuracy: 0.5851 - val_loss: 0.6590 - val_Accuracy: 0.6116\n",
      "Epoch 2/10\n",
      "625/625 [==============================] - 63s 101ms/step - loss: 0.6501 - Accuracy: 0.6183 - val_loss: 0.6420 - val_Accuracy: 0.6244\n",
      "Epoch 3/10\n",
      "625/625 [==============================] - 48s 77ms/step - loss: 0.6371 - Accuracy: 0.6334 - val_loss: 0.6381 - val_Accuracy: 0.6282\n",
      "Epoch 4/10\n",
      "625/625 [==============================] - 57s 91ms/step - loss: 0.6271 - Accuracy: 0.6445 - val_loss: 0.6559 - val_Accuracy: 0.6114\n",
      "Epoch 5/10\n",
      "625/625 [==============================] - 61s 98ms/step - loss: 0.6187 - Accuracy: 0.6516 - val_loss: 0.6312 - val_Accuracy: 0.6424\n",
      "Epoch 6/10\n",
      "625/625 [==============================] - 52s 83ms/step - loss: 0.6110 - Accuracy: 0.6632 - val_loss: 0.6406 - val_Accuracy: 0.6292\n",
      "Epoch 7/10\n",
      "625/625 [==============================] - 59s 94ms/step - loss: 0.6031 - Accuracy: 0.6683 - val_loss: 0.6308 - val_Accuracy: 0.6386\n",
      "Epoch 8/10\n",
      "625/625 [==============================] - 63s 101ms/step - loss: 0.5963 - Accuracy: 0.6752 - val_loss: 0.6500 - val_Accuracy: 0.6322\n",
      "Epoch 9/10\n",
      "625/625 [==============================] - 54s 87ms/step - loss: 0.5896 - Accuracy: 0.6834 - val_loss: 0.6223 - val_Accuracy: 0.6514\n",
      "Epoch 10/10\n",
      "333/625 [==============>...............] - ETA: 18s - loss: 0.5871 - Accuracy: 0.6807"
     ]
    }
   ],
   "source": [
    "net.compile(optimizer='SGD' , loss = 'categorical_crossentropy' , metrics=['Accuracy'])\n",
    "\n",
    "myModel = net.fit(x = X_train , y = y_train ,validation_data =(X_test , y_test) , epochs = 10 )"
   ]
  }
 ],
 "metadata": {
  "kernelspec": {
   "display_name": "Python 3 (ipykernel)",
   "language": "python",
   "name": "python3"
  },
  "language_info": {
   "codemirror_mode": {
    "name": "ipython",
    "version": 3
   },
   "file_extension": ".py",
   "mimetype": "text/x-python",
   "name": "python",
   "nbconvert_exporter": "python",
   "pygments_lexer": "ipython3",
   "version": "3.10.7"
  }
 },
 "nbformat": 4,
 "nbformat_minor": 5
}
